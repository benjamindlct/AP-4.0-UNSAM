{
  "nbformat": 4,
  "nbformat_minor": 0,
  "metadata": {
    "colab": {
      "provenance": [],
      "authorship_tag": "ABX9TyNO8++SzjfBlbIAr2WYwwxR",
      "include_colab_link": true
    },
    "kernelspec": {
      "name": "python3",
      "display_name": "Python 3"
    },
    "language_info": {
      "name": "python"
    }
  },
  "cells": [
    {
      "cell_type": "markdown",
      "metadata": {
        "id": "view-in-github",
        "colab_type": "text"
      },
      "source": [
        "<a href=\"https://colab.research.google.com/github/benjamindlct/AP-4.0-UNSAM/blob/main/django_structure.ipynb\" target=\"_parent\"><img src=\"https://colab.research.google.com/assets/colab-badge.svg\" alt=\"Open In Colab\"/></a>"
      ]
    },
    {
      "cell_type": "code",
      "execution_count": null,
      "metadata": {
        "id": "ydjvy4Y_ow2Z"
      },
      "outputs": [],
      "source": []
    },
    {
      "cell_type": "markdown",
      "source": [
        "models.py"
      ],
      "metadata": {
        "id": "R7EHcTzDqqBt"
      }
    },
    {
      "cell_type": "code",
      "source": [
        "from django.db import models\n",
        "\n",
        "class Staff(models.Model):\n",
        "  #id\n",
        "  name= models.CharField(max_lenght = 127)\n",
        "  position = models.CharField(max_lenght = 127)\n",
        "  date_joined = models.DateField()\n",
        "  date_left = models.DateField(blank = True, null = True)\n",
        "  slug = models.SlugField()\n",
        "\n",
        "  #blank opcional a nivel de formulario, null opcional a nivel de base de datos\n",
        "\n",
        "  def __str__(self):\n",
        "      return f'{self.name} ({self.id})'\n"
      ],
      "metadata": {
        "id": "g5Zt9GlEqthi"
      },
      "execution_count": null,
      "outputs": []
    },
    {
      "cell_type": "markdown",
      "source": [
        "URLs.py"
      ],
      "metadata": {
        "id": "zPYZrHyHtS75"
      }
    },
    {
      "cell_type": "code",
      "source": [
        "from django.contrib import admin\n",
        "from django.urls import path\n",
        "\n",
        "from lab import views as lab_views\n",
        "from web import views as web_views\n",
        "\n",
        "urlpatterns = [\n",
        "    path('', web_views.homepage),\n",
        "    path('staff/', lab_view)\n",
        "    path('staff/<slug:slug>', lab_views.staff_page, name=\"staff_page\")\n",
        "    path('admin',admin)\n",
        "]"
      ],
      "metadata": {
        "id": "JDUzIfU4uQk4"
      },
      "execution_count": null,
      "outputs": []
    },
    {
      "cell_type": "markdown",
      "source": [
        "views.py staff_page"
      ],
      "metadata": {
        "id": "fAFGOa8dvRQW"
      }
    },
    {
      "cell_type": "code",
      "source": [
        "from django.shortcuts import render\n",
        "\n",
        "from .models import Staff\n",
        "\n",
        "def staff_page(request, slug):\n",
        "  try:\n",
        "      staff = Staff.objects.get(slug=slug)\n",
        "  except: Staff.DoesNotExist:\n",
        "      staff = None\n",
        "  return render(request, 'staff_member.html',\n",
        "  {'staff':staff})\n",
        "\n",
        "  def all_lab_members(request):\n",
        "    return render(resquest, 'all_staf.html'\n",
        "    context =()"
      ],
      "metadata": {
        "id": "Ap0Vfs8xvH5q"
      },
      "execution_count": null,
      "outputs": []
    },
    {
      "cell_type": "markdown",
      "source": [
        "Template Staff_member.html"
      ],
      "metadata": {
        "id": "NWW57Q9hw77f"
      }
    },
    {
      "cell_type": "markdown",
      "source": [],
      "metadata": {
        "id": "1NP44Si-w-PN"
      }
    },
    {
      "cell_type": "code",
      "source": [
        "{% if staff %}\n",
        "    <h1> {{ staff.name }} </h1>\n",
        "\n",
        "    <h2> {{staff.position}} </h2>\n",
        "\n",
        "    <p> {{date.joined}} </p>\n",
        "{% else %}\n",
        "    That person doesn't work here!\n",
        "\n",
        "{% endif %}"
      ],
      "metadata": {
        "id": "3u7aDhfHw_Uu"
      },
      "execution_count": null,
      "outputs": []
    },
    {
      "cell_type": "code",
      "source": [
        "<ul>\n",
        "{% for staff in members %}\n",
        "<li> <a href=\"/staff/{{staff.sllug}}\"> {{staff.name}} </a></li>\n",
        "{% endfor %}\n",
        "</ul>"
      ],
      "metadata": {
        "id": "5h_wMFwuvH8M"
      },
      "execution_count": null,
      "outputs": []
    },
    {
      "cell_type": "code",
      "source": [],
      "metadata": {
        "id": "1rh9omhuvH-k"
      },
      "execution_count": null,
      "outputs": []
    },
    {
      "cell_type": "markdown",
      "source": [
        "Homepage.html"
      ],
      "metadata": {
        "id": "qcOxCMTYzg2Q"
      }
    },
    {
      "cell_type": "code",
      "source": [],
      "metadata": {
        "id": "dJMJX67Z0J9B"
      },
      "execution_count": null,
      "outputs": []
    },
    {
      "cell_type": "markdown",
      "source": [
        "base.html (skeleton for the page, styles, etc)"
      ],
      "metadata": {
        "id": "_YMlQgJqzjKq"
      }
    },
    {
      "cell_type": "code",
      "source": [
        "<head>\n",
        "  <style>\n",
        "    h1 {color red}\n",
        "  </style>\n",
        "</head>\n",
        "\n",
        "<body>\n",
        "{% block content %}\n",
        "{% endblock%}\n",
        "</body>"
      ],
      "metadata": {
        "id": "siuwnb6FvICA"
      },
      "execution_count": null,
      "outputs": []
    },
    {
      "cell_type": "markdown",
      "source": [
        "wsgi app\n",
        "\n",
        "web servers\n",
        "nginx\n",
        "apache\n",
        "(handling http requests to your server)\n",
        "\n",
        "django - wsgi - nginx - url (stack order)\n",
        "\n",
        "Heroku"
      ],
      "metadata": {
        "id": "ZvT3vL-70tkX"
      }
    }
  ]
}